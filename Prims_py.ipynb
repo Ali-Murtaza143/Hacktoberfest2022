{
  "nbformat": 4,
  "nbformat_minor": 0,
  "metadata": {
    "colab": {
      "provenance": [],
      "collapsed_sections": []
    },
    "kernelspec": {
      "name": "python3",
      "display_name": "Python 3"
    },
    "language_info": {
      "name": "python"
    }
  },
  "cells": [
    {
      "cell_type": "code",
      "execution_count": null,
      "metadata": {
        "colab": {
          "base_uri": "https://localhost:8080/"
        },
        "id": "fDtff1rhFncl",
        "outputId": "50ac5bf8-da94-4609-935b-4dfbb02fe049"
      },
      "outputs": [
        {
          "output_type": "stream",
          "name": "stdout",
          "text": [
            "(21.1498134, 79.0820556)\n",
            "(19.0785451, 72.878176)\n",
            "(18.521428, 73.8544541)\n",
            "(20.0112475, 73.7902364)\n",
            "(19.1943294, 72.9701779)\n",
            "[[0, 427.50202366902516, 385.2763086761522, 351.6311760175055, 419.1135964192494], [427.50202366902516, 0, 74.550293671268, 87.48224082988976, 9.979747789152853], [385.2763086761522, 74.550293671268, 0, 102.55989455322387, 74.1264796790887], [351.6311760175055, 87.48224082988976, 102.55989455322387, 0, 77.55690666294466], [419.1135964192494, 9.979747789152853, 74.1264796790887, 77.55690666294466, 0]]\n",
            "9.979747789152853\n",
            "1 4\n"
          ]
        }
      ],
      "source": [
        "from geopy.geocoders import Nominatim\n",
        "geolocator = Nominatim(user_agent=\"specify_your_app_name_here\")\n",
        "\n",
        "location = [geolocator.geocode(\"Nagpur\"), geolocator.geocode(\"Mumbai\"), geolocator.geocode(\"Pune\"), geolocator.geocode(\"Nashik\"),geolocator.geocode(\"Thane\")]\n",
        "for l in location:\n",
        "    print((l.latitude, l.longitude))\n",
        "\n",
        "from geopy.distance import geodesic\n",
        "cost = [[0,0,0,0,0],[0,0,0,0,0],[0,0,0,0,0],[0,0,0,0,0],[0,0,0,0,0]]\n",
        "min=99999\n",
        "for i in range(len(cost)):\n",
        "  for j in range(len(cost[i])):\n",
        "    if(j>i):\n",
        "      cost[i][j]=cost[j][i]=geodesic((location[i].latitude,location[i].longitude), (location[j].latitude,location[j].longitude)).miles\n",
        "    if(i!=j and min>cost[i][j]):\n",
        "      min=cost[i][j]\n",
        "      k=i\n",
        "      l=j\n",
        "\n",
        "print(cost)\n",
        "print(min)\n",
        "#print(k,l) index of the vertices in the cost matrix"
      ]
    },
    {
      "cell_type": "code",
      "source": [
        "def updatenear(near,cost,minimum):\n",
        "   for i in range(len(near)):\n",
        "     if(near[i]!=i and cost[i][minimum]<cost[i][near[i]]):\n",
        "       near[i]=minimum\n",
        "   \n",
        "\n",
        "def mincost(near,cost):\n",
        "  mincost=99999\n",
        "  for i in range (len(near)):\n",
        "       if(near[i]!=i and cost[i][near[i]]<mincost):\n",
        "          mincost=cost[i][near[i]]\n",
        "          index=i\n",
        "  return index\n",
        "min=cost[k][l]\n",
        "near=[0,0,0,0,0]\n",
        "t=[[0,0,0],[0,0,0],[0,0,0],[0,0,0]]\n",
        "t[0][0]=k\n",
        "t[0][1]=l\n",
        "t[0][2]=cost[k][l]\n",
        "for i in range(len(near)):\n",
        "  if(cost[i][k]>cost[i][l]):\n",
        "    near[i]=l\n",
        "  else:\n",
        "    near[i]=k\n",
        "\n",
        "#print(near)\n",
        "for i in range (1,4):\n",
        "  minimum=mincost(near,cost)\n",
        "  t[i][0]=minimum\n",
        "  t[i][1]=near[minimum]\n",
        "  t[i][2]=cost[minimum][near[minimum]]\n",
        "  updatenear(near,cost,minimum)\n",
        "#print(minimum)\n",
        "print(\"minimum cost spanning tree is:\")\n",
        "print(t)\n",
        "sum=t[0][2]+t[1][2]+t[2][2]+t[3][2]\n",
        "print(\"Minimum cost connecting cities is\",sum)"
      ],
      "metadata": {
        "colab": {
          "base_uri": "https://localhost:8080/"
        },
        "id": "9-30HiS_Kzoo",
        "outputId": "c8ae9428-d34b-423b-c2ce-423bf57c430b"
      },
      "execution_count": null,
      "outputs": [
        {
          "output_type": "stream",
          "name": "stdout",
          "text": [
            "minimum cost spanning tree is:\n",
            "[[1, 4, 9.979747789152853], [2, 4, 74.1264796790887], [3, 4, 77.55690666294466], [0, 3, 351.6311760175055]]\n",
            "Minimum cost connecting cities is 513.2943101486917\n"
          ]
        }
      ]
    },
    {
      "cell_type": "code",
      "source": [],
      "metadata": {
        "id": "9mRp2RGgQVWg"
      },
      "execution_count": null,
      "outputs": []
    }
  ]
}